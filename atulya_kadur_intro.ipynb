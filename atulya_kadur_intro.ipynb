{
 "cells": [
  {
   "cell_type": "markdown",
   "id": "4d14b75f-fd6a-4774-b4d8-3dc6e132c422",
   "metadata": {},
   "source": [
    "# An introduction to our Flight Data & Trajectories"
   ]
  },
  {
   "cell_type": "markdown",
   "id": "1a83db19-b854-4abd-9c35-c3e01b1891ef",
   "metadata": {},
   "source": [
    "## DO NOT MAKE CHANGES OR RUN CODE IN THIS NOTEBOOK\n",
    "\n",
    "### duplicate this file and call it firstname_lastname_intro.ipynb and do your work there"
   ]
  },
  {
   "cell_type": "markdown",
   "id": "e2557471-ad90-4766-aa90-d79eb38b230d",
   "metadata": {},
   "source": [
    "## Some notes on completing this notebook\n",
    "\n",
    "- Please do not change anything in the code blocks that is not inside the \"YOUR CODE\" section\n",
    "- The 〖value〗inside the brackets is the value that we believe is the correct answer\n",
    "    - There is a chance we are wrong. If you think we're wrong please let us know\n",
    "- We know some of these questions will be hard for you. Please ask questions!\n",
    "\n",
    "\n"
   ]
  },
  {
   "cell_type": "markdown",
   "id": "9877941a-cbff-45c2-a663-104804cfc8e4",
   "metadata": {},
   "source": [
    "## Dataset sneak peek"
   ]
  },
  {
   "cell_type": "markdown",
   "id": "7e1f5ccd-c2b5-4691-ad6f-3a3e8abe762f",
   "metadata": {},
   "source": [
    "Let's take a look at the file for this activity. How large is it?"
   ]
  },
  {
   "cell_type": "code",
   "execution_count": null,
   "id": "56768d2d-ff09-456b-bcd5-ac32a3278e64",
   "metadata": {},
   "outputs": [],
   "source": [
    "%%bash\n",
    "\n",
    "du -h /anvil/projects/tdm/corporate/sandia-trajectory/previous_files/flight/data/raw_data/asdi_2014_07_01_h121314_safe.tsv"
   ]
  },
  {
   "cell_type": "markdown",
   "id": "416bc79a-ce7e-43e1-89d0-dca9e3efeb5c",
   "metadata": {
    "tags": []
   },
   "source": [
    "#### Question: If this is 3 hours of flight data how much storage does it take for a day? How about a month?"
   ]
  },
  {
   "cell_type": "code",
   "execution_count": null,
   "id": "82c60f86-623c-4291-acef-ed3da33e1d31",
   "metadata": {
    "tags": []
   },
   "outputs": [],
   "source": [
    "daysPerMonth = 30\n",
    "MB_per_GB = 1024\n",
    "\n",
    "####################         YOUR CODE         ####################\n",
    "\n",
    "# Report the file size in M\n",
    "fileSize = 44 \n",
    "\n",
    "# Get the size of one hour\n",
    "hourSize = 44/3\n",
    "\n",
    "# Convert from hours to units of interest\n",
    "GBperDay = (44/1024)*24\n",
    "GBperMonth = GBperDay*30\n",
    "\n",
    "####################         END CODE          ####################\n",
    "\n",
    "print(f'In one day we collect about {GBperDay:.2f}〖1.03〗GB of flight data!')\n",
    "print(f'In one month we collect about {GBperMonth:.2f}〖30.94〗GB of flight data!')\n",
    "print('This dataset actually has a few columns removed to save time on the activty, a month of flight data is around 50 GB.')"
   ]
  },
  {
   "cell_type": "markdown",
   "id": "9590f49e-5f2d-4f53-8d6e-508893e44b0e",
   "metadata": {},
   "source": [
    "#### Question: Let's take a look at the data in our file. How many columns are there? What is stored in each column? What data-type is each column? What units are we using?"
   ]
  },
  {
   "cell_type": "code",
   "execution_count": null,
   "id": "bdd0df0c-d897-41c9-a570-c5e8c8b07575",
   "metadata": {},
   "outputs": [],
   "source": [
    "%%bash\n",
    "head -10 /anvil/projects/tdm/corporate/sandia-trajectory/previous_files/flight/data/raw_data/asdi_2014_07_01_h121314_safe.tsv"
   ]
  },
  {
   "cell_type": "markdown",
   "id": "c3068fe7-ee21-4486-8462-7934fe7f6032",
   "metadata": {},
   "source": [
    "#### Fill out this table:\n",
    "\n",
    "* Column 1 contains the Object Ids of the aircraft, it has type string.\n",
    "* Column 2 contains the Update_Time in a String\n",
    "* Column 3 contains the Longitude as a Float.\n",
    "* Column 4 contains the Lattitude in Float.\n",
    "* Column 5 contains Speed in integer.\n",
    "* Column 6 contains Heading in integer.\n",
    "* Column 7 contains Altitide in integer."
   ]
  },
  {
   "cell_type": "markdown",
   "id": "e065bbb8-459f-428b-8da8-2cad0b21fd14",
   "metadata": {},
   "source": [
    "### Data import and manipulation"
   ]
  },
  {
   "cell_type": "markdown",
   "id": "6a2ffec4-4e2b-4dbd-a61a-d21a3bc1e3e4",
   "metadata": {},
   "source": [
    "A quick side-note of time: Its super messy and hard to store. Thankfully the folks over at the [DateTime library](https://docs.python.org/3/library/datetime.html) have put together a handful of useful functions we can make use of."
   ]
  },
  {
   "cell_type": "code",
   "execution_count": null,
   "id": "7a55e119-5863-4c23-8249-2e6862264410",
   "metadata": {},
   "outputs": [],
   "source": [
    "from datetime import datetime\n",
    "\n",
    "BelltowerBirthday = \"1995-10-14 12:00:00\" #Usally stored in a str\n",
    "Today = datetime.now()\n",
    "\n",
    "try: #This wont work\n",
    "    Today - BelltowerBirthday\n",
    "except Exception as e: print(e)\n",
    "\n",
    "# Convert str to DateTime\n",
    "BelltowerBirthdayDT = datetime.strptime(BelltowerBirthday, '%Y-%m-%d %H:%M:%S')\n",
    "\n",
    "Age = Today - BelltowerBirthdayDT\n",
    "print(type(Age))\n",
    "\n",
    "YearsOld = Age.total_seconds() // (60*60*24*365.25)\n",
    "\n",
    "print(f'The Purdue Belltower is {YearsOld:.0f} Years Old.')\n"
   ]
  },
  {
   "cell_type": "markdown",
   "id": "68b474a3-13a5-4522-bf10-f0540c4430b5",
   "metadata": {},
   "source": [
    "Bash is cool and all but let's import the file into our favorite languague - Python!\n",
    "\n",
    "#### Question: Read the file into Pandas and fix any issues with the columns that you read in\n",
    "*(Hint: file is tab delimiated (.tsv) and we need to convert UPDATE_TIME from str into datetime!)*"
   ]
  },
  {
   "cell_type": "code",
   "execution_count": null,
   "id": "2d5ad414-9d53-4206-bbe0-d6d3d00d7d47",
   "metadata": {},
   "outputs": [],
   "source": [
    "import pandas as pd\n",
    "\n",
    "fileLocation = '/anvil/projects/tdm/corporate/sandia-trajectory/previous_files/flight/data/raw_data/asdi_2014_07_01_h121314_safe.tsv'\n",
    "\n",
    "####################         YOUR CODE         ####################\n",
    "\n",
    "# Read in the file using tab ('\\t') seperators\n",
    "rawFlightData = pd.read_csv(fileLocation, delimiter = '\\t')\n",
    "\n",
    "# Convert the 'UPDATE_TIME' column to datetime\n",
    "rawFlightData['UPDATE_TIME'] = pd.to_datetime(rawFlightData['UPDATE_TIME'])\n",
    "\n",
    "\n",
    "####################         END CODE          ####################\n",
    "\n",
    "print(f'The file for this activty has the shape of {rawFlightData.shape} 〖(808757, 7)〗.')\n",
    "print(f'(That means it has {rawFlightData.shape[0]} rows, {rawFlightData.shape[1]} columns.)')"
   ]
  },
  {
   "cell_type": "markdown",
   "id": "069d6d84-31bc-41d1-a836-667b8d3bc802",
   "metadata": {},
   "source": [
    "#### Question: How many unique idenifiers (object_ids) do we have in this file?"
   ]
  },
  {
   "cell_type": "code",
   "execution_count": null,
   "id": "e5004346-eafe-43bc-9500-5266838bb278",
   "metadata": {},
   "outputs": [],
   "source": [
    "####################         YOUR CODE         ####################\n",
    "\n",
    "# Make use of pandas' unique function\n",
    "uniqueObjectIDs = rawFlightData[\"OBJECT_ID\"].unique()\n",
    "\n",
    "####################         END CODE          ####################\n",
    "\n",
    "print(f'There are {len(uniqueObjectIDs)}〖15853〗unique Object IDs.')"
   ]
  },
  {
   "cell_type": "markdown",
   "id": "9ae7ee9a-958b-4678-b653-cfdbf13c595d",
   "metadata": {},
   "source": [
    "#### Question: Let's say that LATITUDE & LONGITUDE are **critial** pieces of information and we can't do our process without them. Please remove rows from the dataset if they are missing **either** of these entries. Call this new dataset `cleanedFlightData`."
   ]
  },
  {
   "cell_type": "code",
   "execution_count": null,
   "id": "7dd84a66-e077-4685-9d79-8ce1a87484d2",
   "metadata": {},
   "outputs": [],
   "source": [
    "####################         YOUR CODE         ####################\n",
    "\n",
    "cleanedFlightData = rawFlightData.dropna(subset=['LONGITUDE','LATITUDE'], how='any')\n",
    "\n",
    "####################         END CODE          ####################\n",
    "\n",
    "print(f'{rawFlightData.shape[0] - cleanedFlightData.shape[0]}〖29774〗rows were removed.')"
   ]
  },
  {
   "cell_type": "markdown",
   "id": "39fca0db-3e3b-4dc7-b9b8-484e4b5fe607",
   "metadata": {},
   "source": [
    "#### Question: Let's pick out all rows that use the flight ID `AAL1463` saving it in a variable sharing it's name."
   ]
  },
  {
   "cell_type": "code",
   "execution_count": null,
   "id": "83289197-18ae-4911-9479-93553aa4bce8",
   "metadata": {},
   "outputs": [],
   "source": [
    "####################         YOUR CODE         ####################\n",
    "\n",
    "AAL1463 = cleanedFlightData[cleanedFlightData['OBJECT_ID'] == 'AAL1463']\n",
    "\n",
    "####################         END CODE          ####################\n",
    "\n",
    "print(f'There are {len(AAL1463)}〖214〗entires with an OBJECT_ID of AAL40 in our file.')"
   ]
  },
  {
   "cell_type": "markdown",
   "id": "37588a6b-a357-4ea0-bf55-14f848292799",
   "metadata": {},
   "source": [
    "#### Question: Create a line plot of the flight using `folium.PolyLine`."
   ]
  },
  {
   "cell_type": "code",
   "execution_count": null,
   "id": "cb0b6dd3-de56-4dff-a229-0aa35970b7b6",
   "metadata": {},
   "outputs": [],
   "source": [
    "import folium\n",
    "\n",
    "map = folium.Map()\n",
    "\n",
    "####################         YOUR CODE         ####################\n",
    "\n",
    "flightPath = folium.PolyLine(AAL1463[['LATITUDE','LONGITUDE']])\n",
    "\n",
    "####################         END CODE          ####################\n",
    "\n",
    "map.add_child(flightPath)\n",
    "\n",
    "map"
   ]
  },
  {
   "cell_type": "markdown",
   "id": "081bee82-1e4e-4a2a-8ae6-94ad5c8f1df3",
   "metadata": {},
   "source": [
    "### Flight Statistics"
   ]
  },
  {
   "cell_type": "markdown",
   "id": "fdfc36a9-c187-4814-9aeb-1ca5c756b339",
   "metadata": {},
   "source": [
    "Plots are nifty and all but I want to see some stats!\n",
    "\n",
    "#### Question: Calculate the length of the flight that we chose"
   ]
  },
  {
   "cell_type": "code",
   "execution_count": null,
   "id": "bb79644c-0ca6-4272-9ccc-9049610f1a75",
   "metadata": {},
   "outputs": [],
   "source": [
    "from geopy.distance import geodesic\n",
    "\n",
    "# Lat,long pairs\n",
    "carmel = (39.978844, -86.220449)\n",
    "purdue = (40.426675, -86.926657)\n",
    "distance = geodesic(carmel, purdue).km\n",
    "\n",
    "print(f'It is {distance:.2f}km from Carmel to Purdue.')\n",
    "\n",
    "####################         YOUR CODE         ####################\n",
    "\n",
    "distanceTraveled = 0\n",
    "for i in range (len(AAL1463) - 1):\n",
    "    distanceTraveled += geodesic((AAL1463.iloc[i]['LATITUDE'], AAL1463.iloc[i]['LONGITUDE']), (AAL1463.iloc[i+1]['LATITUDE'], AAL1463.iloc[i+1]['LONGITUDE'])).km\n",
    "\n",
    "\n",
    "####################         END CODE          ####################\n",
    "\n",
    "print(f'The aircraft traveled a distance of {distanceTraveled:.2f}〖2004.46〗km.')"
   ]
  },
  {
   "cell_type": "markdown",
   "id": "637aeb8a-58a8-45a1-bfe5-8db42096bcdd",
   "metadata": {},
   "source": [
    "#### Question: How long (in seconds) did it take to travel this distance?"
   ]
  },
  {
   "cell_type": "code",
   "execution_count": null,
   "id": "fed9b7ed-a28e-404d-a8d2-e259ff6d65b1",
   "metadata": {},
   "outputs": [],
   "source": [
    "firstPoint = AAL1463[\"UPDATE_TIME\"].iloc[-1]\n",
    "lastPoint = AAL1463[\"UPDATE_TIME\"].iloc[0]\n",
    "\n",
    "\n",
    "####################         YOUR CODE         ####################\n",
    "\n",
    "from datetime import timedelta\n",
    "timeElapsed = (firstPoint - lastPoint).total_seconds()\n",
    "\n",
    "####################         END CODE          ####################\n",
    "\n",
    "print(f'The length of this flight is {timeElapsed:.0f}〖9388〗sconds.')"
   ]
  },
  {
   "cell_type": "markdown",
   "id": "735d8a79-cd77-4fef-9e8c-111ee0992596",
   "metadata": {},
   "source": [
    "#### Question: Please tell me the average speed of flight AAL1463 using two methods (average the 'SPEED' column, calculate the distance traveled and divide by time)."
   ]
  },
  {
   "cell_type": "code",
   "execution_count": null,
   "id": "b5dcdefe-02a8-46c2-b697-a24419a549a8",
   "metadata": {},
   "outputs": [],
   "source": [
    "####################         YOUR CODE         ####################\n",
    "speedAverage = AAL1463['SPEED'].sum()/len(AAL1463)\n",
    "speedAverageDivided = 2004.46/timeElapsed\n",
    "\n",
    "####################         END CODE          ####################\n",
    "\n",
    "print(f'The average speed (via mean) was {speedAverage:.1f}〖413.2〗.')\n",
    "print(f'The average speed (via dist) was {speedAverageDivided:.3f}〖0.214〗.')\n",
    "print('Should these values be similar? What are the units of these speeds?')"
   ]
  },
  {
   "cell_type": "markdown",
   "id": "c411588e-f94c-4407-bf1d-df455840ae9e",
   "metadata": {},
   "source": [
    "### Object ID != Flight ID"
   ]
  },
  {
   "cell_type": "markdown",
   "id": "1b53f9c0-3f86-4061-8889-05a9dc9cd82b",
   "metadata": {},
   "source": [
    "Each aircraft has a unique Object ID but it may take multiple flights in a given time period. This may skew some of our analysis. Lets take a closer look at one of these examples, `N224JV`.\n",
    "\n",
    "#### Question: How many points is in N224JV? How long (seconds) is the current \"flight\"?"
   ]
  },
  {
   "cell_type": "code",
   "execution_count": null,
   "id": "4d18d1df-1ab2-493f-9fb1-dd886b9c1533",
   "metadata": {},
   "outputs": [],
   "source": [
    "####################         YOUR CODE         ####################\n",
    "\n",
    "N224JV = cleanedFlightData[cleanedFlightData['OBJECT_ID'] == 'N224JV']\n",
    "N224JV_timeElapsed = (N224JV[\"UPDATE_TIME\"].iloc[-1] - N224JV[\"UPDATE_TIME\"].iloc[0]).total_seconds()\n",
    "\n",
    "####################         END CODE          ####################\n",
    "\n",
    "print(f'N224JV contains {len(N224JV)}〖127〗points.')\n",
    "print(f'The length of this flight is {N224JV_timeElapsed:.0f}〖8496〗sconds.')"
   ]
  },
  {
   "cell_type": "code",
   "execution_count": null,
   "id": "8c25b279-930b-432a-9b78-b3ae2ae986f1",
   "metadata": {},
   "outputs": [],
   "source": [
    "# Run thise cell to clean up indices\n",
    "N224JV = N224JV.reset_index()"
   ]
  },
  {
   "cell_type": "markdown",
   "id": "5c123254-6fd1-43a1-8aea-1374da550af6",
   "metadata": {},
   "source": [
    "#### Question: How many seconds occur between each point in the flight?\n",
    "\n",
    "*Hint: use .diff*, its okay if the first entry is NaN. What is NaN? Why does this occur?"
   ]
  },
  {
   "cell_type": "code",
   "execution_count": null,
   "id": "28a99743-7ce2-4ffc-bd18-60f01a6fcf50",
   "metadata": {},
   "outputs": [],
   "source": [
    "\n",
    "####################         YOUR CODE         ####################\n",
    "\n",
    "waitTimes = N224JV['UPDATE_TIME'].diff()\n",
    "\n",
    "####################         END CODE          ####################\n",
    "\n",
    "print(waitTimes[0:10])\n",
    "print(f'The average wait time is {waitTimes.mean().total_seconds():.2f}〖67.43〗seconds.')"
   ]
  },
  {
   "cell_type": "markdown",
   "id": "6b690677-ef64-403f-a107-30d12600f666",
   "metadata": {},
   "source": [
    "#### Question: Lets say an aircraft begins a new flight if we haven't received a datapoint in 30 minutes. At what index do we exceed our temporal gap limit of 30 minutes?"
   ]
  },
  {
   "cell_type": "code",
   "execution_count": null,
   "id": "8cc85dee-203f-4c20-90f1-f997880b98db",
   "metadata": {
    "tags": []
   },
   "outputs": [],
   "source": [
    "temporalGapLimit = 30*60\n",
    "\n",
    "####################         YOUR CODE         ####################\n",
    "\n",
    "gapIndex = -1\n",
    "for i in range (len(waitTimes)):\n",
    "    if waitTimes[i].total_seconds() > temporalGapLimit:\n",
    "        gapIndex = i\n",
    "        break\n",
    "\n",
    "####################         END CODE          ####################\n",
    "\n",
    "print(f'The temporal gap occurs at an index of {gapIndex}〖43〗.')"
   ]
  },
  {
   "cell_type": "markdown",
   "id": "993c9358-0bf2-4fb1-89b2-eab55efefa9c",
   "metadata": {},
   "source": [
    "#### Question: Split `N224JV` into its two flights `N224JV_1` and `N224JV_2` at the index we found."
   ]
  },
  {
   "cell_type": "code",
   "execution_count": null,
   "id": "7df8f433-8167-428c-9372-a932f93e0b17",
   "metadata": {},
   "outputs": [],
   "source": [
    "####################         YOUR CODE         ####################\n",
    "\n",
    "N224JV_1 = N224JV[0:43]\n",
    "N224JV_2 = N224JV[43:]\n",
    "\n",
    "####################         END CODE          ####################\n",
    "\n",
    "print(f'N224JV_1 contains {len(N224JV_1)}〖43〗points.')\n",
    "print(f'N224JV_2 contains {len(N224JV_2)}〖84〗points.')"
   ]
  },
  {
   "cell_type": "markdown",
   "id": "5202ad68-8f97-40ea-ad0f-d3721acd28b5",
   "metadata": {},
   "source": [
    "#### Question: Plot the results on our map, using a different color for each piece."
   ]
  },
  {
   "cell_type": "code",
   "execution_count": null,
   "id": "0dee3520-50be-4115-a039-9ec4a92ddc03",
   "metadata": {},
   "outputs": [],
   "source": [
    "map = folium.Map()\n",
    "\n",
    "####################         YOUR CODE         ####################\n",
    "\n",
    "flightPath_1 = folium.PolyLine(N224JV_1[['LATITUDE','LONGITUDE']],color='pink')\n",
    "flightPath_2 = folium.PolyLine(N224JV_2[['LATITUDE','LONGITUDE']],color='green')\n",
    "\n",
    "####################         END CODE          ####################\n",
    "map.add_child(flightPath_1)\n",
    "map.add_child(flightPath_2)\n",
    "\n",
    "map"
   ]
  },
  {
   "cell_type": "markdown",
   "id": "7c7cc5f4-caf5-4976-8c13-bc0beb738470",
   "metadata": {},
   "source": [
    "### Wrapping it up\n",
    "#### Question: Write another summary statistic of a flight (average altitude, speed variance, end-to-end heading) and gets its value for both pieces of `N224JV`."
   ]
  },
  {
   "cell_type": "code",
   "execution_count": null,
   "id": "73ec8203-2b0d-4a04-b144-2e4e177c12de",
   "metadata": {},
   "outputs": [],
   "source": [
    "# GO CRAZY! RAHHHHH\n",
    "# I am going crazy!!!\n",
    "\n",
    "N224JV_1_alt = N224JV_1['ALTITUDE'].sum()/len( N224JV_1)\n",
    "N224JV_2_alt = N224JV_2['ALTITUDE'].sum()/len( N224JV_2)\n",
    "\n",
    "print(f'The average altitude of the first flight path is {N224JV_1_alt:.2f}.')\n",
    "print(f'The average altitude of the second flight path is {N224JV_2_alt:.2f}.')\n",
    "\n",
    "print('I am so smart 🫡🫡🫡🫡')"
   ]
  }
 ],
 "metadata": {
  "kernelspec": {
   "display_name": "Sandia",
   "language": "python",
   "name": "sandia"
  },
  "language_info": {
   "codemirror_mode": {
    "name": "ipython",
    "version": 3
   },
   "file_extension": ".py",
   "mimetype": "text/x-python",
   "name": "python",
   "nbconvert_exporter": "python",
   "pygments_lexer": "ipython3",
   "version": "3.9.13"
  }
 },
 "nbformat": 4,
 "nbformat_minor": 5
}
