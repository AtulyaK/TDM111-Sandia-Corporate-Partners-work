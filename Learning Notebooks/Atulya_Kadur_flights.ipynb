{
 "cells": [
  {
   "cell_type": "markdown",
   "id": "ca665c20-d800-47ee-9cb0-4829489dd5b1",
   "metadata": {},
   "source": [
    "## DO NOT MAKE CHANGES OR RUN CODE IN THIS NOTEBOOK\n",
    "\n",
    "### duplicate this file and call it firstname_lastname_flights.ipynb and do your work there"
   ]
  },
  {
   "cell_type": "markdown",
   "id": "8bf35414-e4dc-481c-802c-ddd712f82d47",
   "metadata": {},
   "source": [
    "## Some notes on completing this notebook\n",
    "\n",
    "- Please do not change anything in the code blocks that is not inside the \"YOUR CODE\" section\n",
    "- The 〖value〗inside the brackets is the value that we believe is the correct answer\n",
    "    - There is a chance we are wrong. If you think we're wrong please let us know\n",
    "- We know some of these questions will be hard for you. Please ask questions!"
   ]
  },
  {
   "cell_type": "markdown",
   "id": "9d83f0a7-eca3-4726-b362-e46ffb964b18",
   "metadata": {},
   "source": [
    "Here is a 100MB data file on Anvil with one point per line.  We want you to do the following task without using Tracktable:\n",
    "\n",
    "* Load in the data\n",
    "* Separate it into flights using the following criteria:\n",
    "    * All the points in a flight will have the same flight ID\n",
    "    * A gap of more than 30 minutes between points with the same ID indicates the start of a new flight\n",
    "    * Find the longest and shortest 10 flights (by duration)\n",
    "    * Find the longest and shortest 10 flights (by distance)"
   ]
  },
  {
   "cell_type": "markdown",
   "id": "4d14b75f-fd6a-4774-b4d8-3dc6e132c422",
   "metadata": {},
   "source": [
    "# Building up our Flight Database"
   ]
  },
  {
   "cell_type": "markdown",
   "id": "68b474a3-13a5-4522-bf10-f0540c4430b5",
   "metadata": {},
   "source": [
    "In the last activty we did alot of work to pick out one flight and do some basic analysis. For this activty we're interested in apply this to our whole file and getting information about the dataset as a whole.\n",
    "\n",
    "The following code block setup up the database we will use for this assignemnt."
   ]
  },
  {
   "cell_type": "code",
   "execution_count": null,
   "id": "2d5ad414-9d53-4206-bbe0-d6d3d00d7d47",
   "metadata": {},
   "outputs": [],
   "source": [
    "import pandas as pd\n",
    "\n",
    "# Where is our dataset located on Anvil?\n",
    "fileLocation = '/anvil/projects/tdm/corporate/sandia-trajectory/previous_files/flight/data/raw_data/asdi_2014_07_01_h121314_safe.tsv'\n",
    "\n",
    "# Read the file in, splitting it based on tab\n",
    "rawFlightData = pd.read_csv(fileLocation, sep='\\t')\n",
    "# Update the time\n",
    "rawFlightData['UPDATE_TIME'] = rawFlightData['UPDATE_TIME'].astype('datetime64[ns]')\n",
    "\n",
    "uniqueObjectIDs = pd.unique(rawFlightData['OBJECT_ID'])\n",
    "cleanedFlightData = rawFlightData.dropna(subset = ['LONGITUDE', 'LATITUDE'], inplace=False)\n",
    "\n",
    "flightDataGrouped = dict(tuple(cleanedFlightData.groupby('OBJECT_ID')))\n",
    "for flight in flightDataGrouped:\n",
    "    flightDataGrouped[flight] = flightDataGrouped[flight].reset_index()\n",
    "\n",
    "print(f'There are {len(flightDataGrouped.keys())} aircraft in this dictonary.')"
   ]
  },
  {
   "cell_type": "markdown",
   "id": "cd5f6e00-531c-4806-8d29-22676decf77f",
   "metadata": {},
   "source": [
    "Create a histogram (n_bins=40) showing how many datapoints we have for each aircraft."
   ]
  },
  {
   "cell_type": "code",
   "execution_count": null,
   "id": "dd1d7529-80e5-4588-beaa-2ed5327d1a90",
   "metadata": {},
   "outputs": [],
   "source": [
    "import matplotlib.pyplot as plt\n",
    "import math\n",
    "\n",
    "fig = plt.figure(figsize = (10, 5))\n",
    "\n",
    "####################         YOUR CODE         ####################\n",
    "\n",
    "pointsPerAircraft = flightDataGrouped\n",
    "\n",
    "####################         END CODE          ####################\n",
    "\n",
    "plt.hist(pointsPerAircraft, bins=40)\n",
    "plt.xlabel(\"Datapoints per aircraft\")\n",
    "plt.ylabel(\"Aircraft\")\n",
    "plt.title(\"Cool title\")\n",
    "plt.show()"
   ]
  },
  {
   "cell_type": "code",
   "execution_count": null,
   "id": "1b8e13f7-577a-4afb-b7c9-c544b8cfb435",
   "metadata": {},
   "outputs": [],
   "source": [
    "first_value = next(iter(flightDataGrouped.values()))\n",
    "print(first_value)"
   ]
  },
  {
   "cell_type": "code",
   "execution_count": null,
   "id": "46f6f1c7-9408-4c9b-aba3-c36b355d581d",
   "metadata": {},
   "outputs": [],
   "source": [
    "for p in first_value:\n",
    "    print(p)\n",
    "    print([i[4] for i in first_value])"
   ]
  },
  {
   "cell_type": "code",
   "execution_count": null,
   "id": "e92b24e9-37d6-466a-8e57-96bb162fbe9d",
   "metadata": {},
   "outputs": [],
   "source": [
    "for a in first_value:  # <-- this unpacks the tuple like a, b = (0, 1)\n",
    "    print(a)"
   ]
  },
  {
   "cell_type": "markdown",
   "id": "38df556b-e571-41e5-94bf-e2692c04e748",
   "metadata": {},
   "source": [
    "We have a lot of flights that have less then 10 datapoints, these are probably too short to be useful. Lets remove flights from `flightDataGrouped` if it has less then 10 datapoints."
   ]
  },
  {
   "cell_type": "code",
   "execution_count": null,
   "id": "e248d604-43b3-4d95-b218-1e51fd3e26ae",
   "metadata": {},
   "outputs": [],
   "source": [
    "####################         YOUR CODE         ####################\n",
    "cleanFlightData = {}\n",
    "\n",
    "# Iterate through flightDataGrouped and only keep flights with 10 or more data points\n",
    "removeFlights = [flight for flight in flightDataGrouped if len(flightDataGrouped[flight]) < 10]\n",
    "\n",
    "flightDataGrouped = {flight:flightDataGrouped[flight] for flight in flightDataGrouped if flight not in removeFlights}\n",
    "\n",
    "####################         END CODE          ####################\n",
    "\n",
    "print(f'There are now {len(flightDataGrouped.keys())}〖9924〗aircraft in this dictonary.')"
   ]
  },
  {
   "cell_type": "markdown",
   "id": "f62c3dfd-25a5-4fa5-934b-56071ee3c362",
   "metadata": {},
   "source": [
    "Lets split our dataset dictonary into two: those that don't have a 30 minute gap `noGap` and those that do `withGap`."
   ]
  },
  {
   "cell_type": "code",
   "execution_count": null,
   "id": "9210055a-eddb-4d89-8ea5-f07cb83b03bd",
   "metadata": {},
   "outputs": [],
   "source": [
    "temporalGapLimit = 30*60\n",
    "\n",
    "def waitTimes(flightPandasDataFrame):\n",
    "    \"\"\"\n",
    "    Calculates the wait times between updates for a list of flight points.\n",
    "\n",
    "    Args:\n",
    "        flightPandasDataFrame: pandas dataframe containing flight information\n",
    "\n",
    "    Returns:\n",
    "        time between updates (seconds) [list]\n",
    "\n",
    "    \"\"\"\n",
    "    \n",
    "    updateTimes = flightPandasDataFrame['UPDATE_TIME']\n",
    "    timeBetweenUpdates = updateTimes.diff().dt.total_seconds()\n",
    "    \n",
    "    return timeBetweenUpdates.dropna()\n",
    "\n",
    "noGap = {}\n",
    "withGap = {}\n",
    "\n",
    "####################         YOUR CODE         ####################\n",
    "\n",
    "# Get the wait times for each flight\n",
    "for flight in flightDataGrouped:\n",
    "    waitTimesList = waitTimes(flightDataGrouped[flight])\n",
    "    if max(waitTimesList) > temporalGapLimit:\n",
    "        withGap[flight] = flightDataGrouped[flight]\n",
    "    else:\n",
    "        noGap[flight] = flightDataGrouped[flight]\n",
    "\n",
    "####################         END CODE          ####################\n",
    "\n",
    "print(f'There are {len(withGap.keys())}〖1184〗flights with gaps of over {temporalGapLimit} seconds.')\n",
    "print(f'There are {len(noGap.keys())} 〖8740〗flights with no temporal gaps')"
   ]
  },
  {
   "cell_type": "markdown",
   "id": "8b431379-085c-448d-bb64-b9662c1b87ce",
   "metadata": {},
   "source": [
    "Split the flights with temporal gaps and add them to the noGap dict\n",
    "\n",
    "Easy mode: Skip the flights that have multiple temporal gaps\n",
    "\n",
    "(Optional) Hard mode: Split all the flights with temporal gaps"
   ]
  },
  {
   "cell_type": "code",
   "execution_count": null,
   "id": "1d5d6e16-3478-40e5-b471-4b646b076267",
   "metadata": {},
   "outputs": [],
   "source": [
    "newFlightSegments = {}\n",
    "####################         YOUR CODE         ####################\n",
    "\n",
    "def countAboveTemporalLimit(flightsWaitTime):\n",
    "    if(flightsWaitTime>temporalGapLimit):\n",
    "        return 1\n",
    "    return 0\n",
    "\n",
    "\n",
    "\n",
    "for flight in flightDataGrouped:\n",
    "    count = sum(map(countAboveTemporalLimit, waitTimes(flightDataGrouped[flight])))\n",
    "    if(count <= 1):\n",
    "        noGap[flight] = flightDataGrouped[flight]\n",
    "\n",
    "####################         END CODE          ####################\n",
    "\n",
    "noGap.update(newFlightSegments)\n",
    "print(f'After doing easy mode, there are now {len(noGap.keys())}〖11111〗flights.') # Edit this print statement if you did hard mode"
   ]
  },
  {
   "cell_type": "code",
   "execution_count": null,
   "id": "9310ca6c-e3c8-41ec-9cd3-14dff1bab7f4",
   "metadata": {
    "tags": []
   },
   "outputs": [],
   "source": [
    "import folium\n",
    "map = folium.Map()\n",
    "\n",
    "####################         YOUR CODE         ####################\n",
    "\n",
    "flightPath_1=\n",
    "\n",
    "####################         END CODE          ####################\n",
    "map.add_child(flightPath_1)\n",
    "\n",
    "map"
   ]
  }
 ],
 "metadata": {
  "kernelspec": {
   "display_name": "Sandia",
   "language": "python",
   "name": "sandia"
  },
  "language_info": {
   "codemirror_mode": {
    "name": "ipython",
    "version": 3
   },
   "file_extension": ".py",
   "mimetype": "text/x-python",
   "name": "python",
   "nbconvert_exporter": "python",
   "pygments_lexer": "ipython3",
   "version": "3.9.13"
  }
 },
 "nbformat": 4,
 "nbformat_minor": 5
}
