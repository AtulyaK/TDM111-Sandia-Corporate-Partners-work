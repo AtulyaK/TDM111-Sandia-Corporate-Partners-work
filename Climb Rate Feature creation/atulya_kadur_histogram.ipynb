{
 "cells": [
  {
   "cell_type": "code",
   "execution_count": 2,
   "id": "0ee742d6-7db8-44b8-bf47-3d1bef02d662",
   "metadata": {},
   "outputs": [],
   "source": [
    "# import libraries\n",
    "from matplotlib import pyplot as plt\n",
    "import pandas as pd\n",
    "import numpy as np"
   ]
  },
  {
   "cell_type": "code",
   "execution_count": 3,
   "id": "44a6e60a-84f5-4904-a0ac-13f1dadf7613",
   "metadata": {},
   "outputs": [
    {
     "data": {
      "text/plain": [
       "'1.6.0'"
      ]
     },
     "execution_count": 3,
     "metadata": {},
     "output_type": "execute_result"
    }
   ],
   "source": [
    "#Import needed libraries\n",
    "import os.path\n",
    "import tracktable\n",
    "\n",
    "from tracktable.core import geomath\n",
    "from tracktable.domain.terrestrial import TrajectoryPointReader\n",
    "from tracktable.applications.assemble_trajectories import AssembleTrajectoryFromPoints\n",
    "from tracktable.render.render_trajectories import render_trajectories\n",
    "\n",
    "from datetime import datetime, timedelta\n",
    "\n",
    "tracktable.__version__"
   ]
  },
  {
   "cell_type": "code",
   "execution_count": 4,
   "id": "6efb1a54-cd05-466a-b652-ca741a732e40",
   "metadata": {},
   "outputs": [],
   "source": [
    "# read in file of interest\n",
    "file = '/anvil/projects/tdm/corporate/sandia-trajectory/previous_files/flight/data/raw_data/asdi_2013_10_21.tsv'\n",
    "data = pd.read_csv(file, sep='\\t').dropna()"
   ]
  },
  {
   "cell_type": "code",
   "execution_count": 5,
   "id": "e811052b-e7bf-4d7d-9360-a6f5c6151e94",
   "metadata": {},
   "outputs": [],
   "source": [
    "# set data column names (as they were missing)\n",
    "data.columns = ['OBJECT_ID', 'UPDATE_TIME', 'LONGITUDE', 'LATITUDE', 'SPEED', 'HEADING', 'ALTITUDE', 'AC_TYPE', 'ORIGIN', 'DESTINATION', 'ROUTE_FAA']"
   ]
  },
  {
   "cell_type": "code",
   "execution_count": 6,
   "id": "ddc16acd-b8f4-466d-b383-3b8ed83a5c8e",
   "metadata": {},
   "outputs": [],
   "source": [
    "#Read in the file, let it know what the comment & delimiter character is\n",
    "data_filename = os.path.join(\"/anvil/projects/tdm/corporate/sandia-trajectory/previous_files/flight/data/raw_data/asdi_2013_10_21.tsv\")\n",
    "inFile = open(data_filename, 'r')\n",
    "reader = TrajectoryPointReader()\n",
    "reader.input = inFile\n",
    "reader.comment_character = '#' \t#What character is used for comments\n",
    "reader.field_delimiter = '\\t' \t#What character \"breaks\" each data value ex: Comma-Separated Values\n",
    "\n",
    "#Columns start at 0, ex: 0 is column A, 2 is column C\n",
    "reader.object_id_column = 0 \t#What column holds the object ID\n",
    "reader.timestamp_column = 1 \t#What column holds the timestamp\n",
    "reader.coordinates[1] = 3\t\t#What column holds LAT data\n",
    "reader.coordinates[0] = 2\t\t#What column holds LONG data\n",
    "reader.set_real_field_column('speed', 4) #Extra data (heading)\n",
    "reader.set_real_field_column('heading', 5) #Extra data (heading)\n",
    "reader.set_real_field_column('altitude', 6) #Extra data (altitude)"
   ]
  },
  {
   "cell_type": "code",
   "execution_count": 7,
   "id": "59532394-d5d6-4c01-939d-50d516a8a642",
   "metadata": {},
   "outputs": [
    {
     "name": "stdout",
     "output_type": "stream",
     "text": [
      "[JBU471@ 2013-10-21 00:00:00: (-95.8636, 44.3997) Properties: ( {altitude [real]: 36000}, {heading [real]: 264}, {speed [real]: 408})]\n",
      "[DAL1321@ 2013-10-21 00:00:00: (-85.6, 43.9167) Properties: ( {altitude [real]: 36000}, {heading [real]: 139}, {speed [real]: 380})]\n",
      "[SWA2815@ 2013-10-21 00:00:00: (-93.2664, 41.1656) Properties: ( {altitude [real]: 38000}, {heading [real]: 258}, {speed [real]: 376})]\n",
      "[VRD241@ 2013-10-21 00:00:00: (-97.8367, 40.0047) Properties: ( {altitude [real]: 36000}, {heading [real]: 253}, {speed [real]: 387})]\n",
      "[AAL1619@ 2013-10-21 00:00:00: (-93.9456, 34.2028) Properties: ( {altitude [real]: 30000}, {heading [real]: 253}, {speed [real]: 395})]\n"
     ]
    }
   ],
   "source": [
    "#Test to see if data has been imported correctly.\n",
    "limit = 5\t\t\t\t\t# Used to limit how many results we see\n",
    "for i, x in enumerate(reader):\n",
    "    if i >= limit: break\t# Exits a loop early\n",
    "    print(x)\t\t\t\t# Print a line from reader"
   ]
  },
  {
   "cell_type": "code",
   "execution_count": 8,
   "id": "9e43270f-6d60-4f70-a9e8-6ecf8b06c269",
   "metadata": {
    "tags": []
   },
   "outputs": [
    {
     "name": "stderr",
     "output_type": "stream",
     "text": [
      "INFO:tracktable.applications.assemble_trajectoriesAssembleTrajectoryFromPoints:New trajectories will be declared after a separation of None distance units between two points or a time lapse of at least 0:30:00 (hours, minutes, seconds).\n",
      "INFO:tracktable.applications.assemble_trajectoriesAssembleTrajectoryFromPoints:Trajectories with fewer than 10 points will be discarded.\n"
     ]
    },
    {
     "name": "stdout",
     "output_type": "stream",
     "text": [
      "[2023-11-17 15:03:40.004501] [0x00007f2029f9f740] [info]    Done reading points. Generated 4820510 points correctly and discarded 151878 due to parse errors.\n",
      "\n"
     ]
    },
    {
     "name": "stderr",
     "output_type": "stream",
     "text": [
      "INFO:tracktable.applications.assemble_trajectoriesAssembleTrajectoryFromPoints:Done assembling trajectories. 51183 trajectories produced and 4373 discarded for having fewer than 10 points.\n"
     ]
    },
    {
     "name": "stdout",
     "output_type": "stream",
     "text": [
      "51183 〖10815〗flights built! ✈\n",
      "The type of traj is <class 'list'>\n",
      "traj is a list of <class 'tracktable.lib._terrestrial.TrajectoryTerrestrial'>\n"
     ]
    }
   ],
   "source": [
    "#Combine datapoints together using the object_id\n",
    "builder = AssembleTrajectoryFromPoints()\n",
    "builder.input = reader\n",
    "builder.minimum_length = 10\n",
    "builder.separation_time = timedelta(minutes = 30)\n",
    "traj = list(builder.trajectories())\n",
    "print(len(traj), '〖10815〗flights built! ✈')\n",
    "\n",
    "print(f'The type of traj is {type(traj)}')\n",
    "print(f'traj is a list of {type(traj[0])}')"
   ]
  },
  {
   "cell_type": "code",
   "execution_count": null,
   "id": "3154c42f-1268-4adb-ae56-d2c3579cc589",
   "metadata": {
    "tags": []
   },
   "outputs": [],
   "source": [
    "climb_rate = []\n",
    "test = 0\n",
    "for count, flight in enumerate(traj):\n",
    "    try:\n",
    "        altList = []\n",
    "        indexes = []\n",
    "        timestamps = []\n",
    "        for counter, point in enumerate(flight):\n",
    "            if flight[counter].properties['altitude'] != None:\n",
    "                altList.append(flight[counter].properties['altitude'])\n",
    "                timestamps.append(flight[counter].timestamp)\n",
    "        for i, flight in enumerate(altList):\n",
    "            try:\n",
    "                #print(test)\n",
    "                climb_rate.append( (altList[i + 1] - altList[i]) / (timestamps[i + 1] - timestamps[i]).total_seconds() )\n",
    "                #test += 5\n",
    "            except:\n",
    "                test += 1\n",
    "    except:\n",
    "        print(\"An exception occurred\")"
   ]
  },
  {
   "cell_type": "code",
   "execution_count": 46,
   "id": "e090fce9-2080-40d4-9727-3caf6369b49b",
   "metadata": {},
   "outputs": [
    {
     "data": {
      "text/plain": [
       "4752680"
      ]
     },
     "execution_count": 46,
     "metadata": {},
     "output_type": "execute_result"
    }
   ],
   "source": [
    "len(climb_rate)"
   ]
  },
  {
   "cell_type": "code",
   "execution_count": 8,
   "id": "7045e864-6aa2-4571-827b-4df3fe22a777",
   "metadata": {},
   "outputs": [],
   "source": [
    "def getClimbRate(flightNumber):\n",
    "    counter = 0;\n",
    "    altList = []\n",
    "    indexes = []\n",
    "    timestamps = []\n",
    "    while len(altList) <= 3:\n",
    "        if flightNumber[counter].properties['altitude'] == None:\n",
    "            counter += 1\n",
    "        else:\n",
    "            altList.append(flightNumber[counter].properties['altitude'])\n",
    "            indexes.append(counter)\n",
    "            counter += 1\n",
    "    for i in indexes:\n",
    "        timestamps.append(flightNumber[i].timestamp)\n",
    "    dif1 = (timestamps[1] - timestamps[0]).total_seconds()\n",
    "    dif2 = (timestamps[2] - timestamps[1]).total_seconds()\n",
    "\n",
    "    val1 = (altList[1] - altList[0]) / dif1\n",
    "    val2 = (altList[2] - altList[1]) / dif2\n",
    "    return val1, val2"
   ]
  },
  {
   "cell_type": "code",
   "execution_count": null,
   "id": "00dfc6d4-23e1-48c1-b1fa-eca6ca7641a7",
   "metadata": {},
   "outputs": [],
   "source": [
    "# define the number of bins, then produce a 1D histogram\n",
    "binNumber = int(np.sqrt(len(climb_rate)))\n",
    "\n",
    "plt.figure(figsize=(20, 25), dpi=100);\n",
    "plt.hist(climb_rate, bins= 10000, edgecolor = 'black');\n",
    "plt.title('CLimb Rate of aircraft');\n",
    "plt.ylabel('Occurances');\n",
    "plt.xlabel('Climb Rate');\n",
    "plt.xlim(-250, 250);\n",
    "plt.ylim(0 ,200000)\n",
    "plt.xticks(np.arange(-250, 250, 10))\n",
    "plt.yscale('log')\n",
    "\n",
    "plt.savefig(\"climbRate_atulya_1Dhistogram.png\")"
   ]
  },
  {
   "cell_type": "code",
   "execution_count": null,
   "id": "2132cd40-b4a0-41c4-a09c-fd9775283680",
   "metadata": {},
   "outputs": [],
   "source": [
    "# group datapoints by floor(LON) and floor(LAT), returning the mean\n",
    "\n",
    "results = data.groupby([data['LONGITUDE'].astype(int), data['LATITUDE'].astype(int)])['ROUTE_LEN'].mean()\n",
    "results"
   ]
  },
  {
   "cell_type": "code",
   "execution_count": null,
   "id": "8eb08cb2-006b-4943-b750-5bfd4abc0840",
   "metadata": {},
   "outputs": [],
   "source": [
    "# repackage the results into a matrix\n",
    "matrix = np.zeros((360,360,1))\n",
    "results = results.reset_index().values\n",
    "\n",
    "for entry in results:\n",
    "    matrix[-int(entry[1]), int(entry[0])] = entry[2]"
   ]
  },
  {
   "cell_type": "code",
   "execution_count": null,
   "id": "07c43a76-fe90-4fca-a957-4568d956dcbe",
   "metadata": {},
   "outputs": [],
   "source": [
    "# plot the results as a 2D histogram\n",
    "plt.figure(figsize=(10, 6), dpi=100);\n",
    "plt.imshow(matrix, interpolation='nearest');\n",
    "plt.gca().set_aspect('equal');\n",
    "plt.xlabel('Average ROUTE_FAA string length, grouped by lat/lon');\n",
    "plt.axis('off');\n",
    "plt.xlim([180,320]);\n",
    "plt.ylim([350,280]);\n",
    "\n",
    "plt.savefig(\"routeLen_bryce_2Dhistogram.png\")"
   ]
  }
 ],
 "metadata": {
  "kernelspec": {
   "display_name": "Sandia",
   "language": "python",
   "name": "sandia"
  },
  "language_info": {
   "codemirror_mode": {
    "name": "ipython",
    "version": 3
   },
   "file_extension": ".py",
   "mimetype": "text/x-python",
   "name": "python",
   "nbconvert_exporter": "python",
   "pygments_lexer": "ipython3",
   "version": "3.9.13"
  }
 },
 "nbformat": 4,
 "nbformat_minor": 5
}
