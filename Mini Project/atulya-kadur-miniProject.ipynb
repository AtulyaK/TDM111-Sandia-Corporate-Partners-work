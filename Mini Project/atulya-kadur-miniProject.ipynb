{
 "cells": [
  {
   "cell_type": "markdown",
   "id": "4d2fdee2-a48b-43ce-aeb1-9fdac51c3070",
   "metadata": {},
   "source": [
    "# tutorial on the labeled data"
   ]
  },
  {
   "cell_type": "markdown",
   "id": "4793ad9d-69ba-422c-a025-80a3506b29be",
   "metadata": {},
   "source": [
    "the data can be found at `/anvil/projects/tdm/corporate/sandia-trajectory/previous_files/flight/data/2023_2024/miniProject`\n",
    "\n",
    "each directory contains a csv file that has the flight data from 10AM to 4PM with the respective origin airport or aircraft type\n",
    "\n",
    "however, Tracktable only supports up to 7 columns while we need at least 8 columns for this task\n",
    "\n",
    "as such, we've arranged the data in a way for you to have access to all the data you need"
   ]
  },
  {
   "cell_type": "markdown",
   "id": "21116ce4-2f8e-4cdb-9586-7526b971b9ea",
   "metadata": {},
   "source": [
    "### pickle files\n",
    "\n",
    "pickle files are way to serialize (save) Python objects into files that can be deserialized (loaded) later"
   ]
  },
  {
   "cell_type": "code",
   "execution_count": null,
   "id": "47c56ba0-7f59-4fea-98ba-8f10b2d8b28c",
   "metadata": {},
   "outputs": [],
   "source": [
    "import pickle"
   ]
  },
  {
   "cell_type": "markdown",
   "id": "09717275-98e9-4d6d-b10f-232513e18902",
   "metadata": {},
   "source": [
    "#### how to load a pickle file\n",
    "\n",
    "`variable = pickle.load(open('filename', 'rb'))`\n",
    "\n",
    "the `rb` tells the Python reader that the pickle file is in binary"
   ]
  },
  {
   "cell_type": "markdown",
   "id": "96d8b0ee-8c22-4eb1-b125-7da454b6ddb8",
   "metadata": {},
   "source": [
    "how to dump (save) a pickle file\n",
    "\n",
    "`pickle.dump(variable, open('filename', 'wb'))`\n",
    "\n",
    "the `wb` tells the Python writer to write in binary"
   ]
  },
  {
   "cell_type": "markdown",
   "id": "9ee78d04-7c1b-484f-919e-2dd637fc1b4c",
   "metadata": {},
   "source": [
    "# flight origin"
   ]
  },
  {
   "cell_type": "code",
   "execution_count": null,
   "id": "1a50120b-a460-400d-8949-1d0b745bb8ea",
   "metadata": {
    "tags": []
   },
   "outputs": [],
   "source": [
    "origin_flights = pickle.load(open('/anvil/projects/tdm/corporate/sandia-trajectory/previous_files/flight/data/2023_2024/miniProject/origin/origin_clean.pickle', 'rb'))"
   ]
  },
  {
   "cell_type": "markdown",
   "id": "5c362fde-34ba-4bc9-9376-c1ad0853e91e",
   "metadata": {},
   "source": [
    "`origin_clean.pickle` contains a list of Tracktable trajectories"
   ]
  },
  {
   "cell_type": "code",
   "execution_count": null,
   "id": "e27e7833-add9-495d-affc-57d7e71e507d",
   "metadata": {},
   "outputs": [],
   "source": [
    "type(origin_flights)"
   ]
  },
  {
   "cell_type": "code",
   "execution_count": null,
   "id": "3dec9bdd-2646-4334-9b7b-de2e42555092",
   "metadata": {},
   "outputs": [],
   "source": [
    "type(origin_flights[0])"
   ]
  },
  {
   "cell_type": "markdown",
   "id": "15835b55-98b1-421a-a173-d4b6e7b14acf",
   "metadata": {},
   "source": [
    "the origin airport of a trajectory can be accessed using `flight.property('origin_id')`"
   ]
  },
  {
   "cell_type": "code",
   "execution_count": null,
   "id": "2d3afe22-6755-4e78-a34a-8ae8965e6e17",
   "metadata": {},
   "outputs": [],
   "source": [
    "origin_flights[0].property('origin_id')"
   ]
  },
  {
   "cell_type": "markdown",
   "id": "913f4fb2-0774-429d-8c94-a0ce1ba737bc",
   "metadata": {},
   "source": [
    "this id can be matched with the id of the airport using the `origin_dict`"
   ]
  },
  {
   "cell_type": "code",
   "execution_count": null,
   "id": "63fbab7a-acde-45b9-b245-7972e8cf5d71",
   "metadata": {},
   "outputs": [],
   "source": [
    "origin_dict = pickle.load(open('/anvil/projects/tdm/corporate/sandia-trajectory/previous_files/flight/data/2023_2024/miniProject/origin/origin_dict.pickle', 'rb'))"
   ]
  },
  {
   "cell_type": "code",
   "execution_count": null,
   "id": "a9aa0cfb-b444-4c19-8d07-ab71342cbfa6",
   "metadata": {},
   "outputs": [],
   "source": [
    "origin_dict[str(5847)]"
   ]
  },
  {
   "cell_type": "markdown",
   "id": "e7c4bcd2-87ed-4210-8651-7e045d32547a",
   "metadata": {},
   "source": [
    "there are 3 airports present in the filtered data set to make classification easier"
   ]
  },
  {
   "cell_type": "code",
   "execution_count": null,
   "id": "63611a3f-59f3-4199-a849-409eeade6735",
   "metadata": {},
   "outputs": [],
   "source": [
    "set(origin_dict.values())"
   ]
  },
  {
   "cell_type": "markdown",
   "id": "2a1ebd06-fd8f-436f-8abc-e84deb51a2f8",
   "metadata": {},
   "source": [
    "note: the key of the origin dictionary are strings, so make sure you are passing in strings not ints"
   ]
  },
  {
   "cell_type": "markdown",
   "id": "316de95e-2646-447c-9964-bac88bd437fa",
   "metadata": {},
   "source": [
    "# flight size"
   ]
  },
  {
   "cell_type": "code",
   "execution_count": null,
   "id": "532660e5-c771-46b6-9d53-631f0f4a852a",
   "metadata": {},
   "outputs": [],
   "source": [
    "size_flights = pickle.load(open('/anvil/projects/tdm/corporate/sandia-trajectory/previous_files/flight/data/2023_2024/miniProject/size/size_clean.pickle', 'rb'))"
   ]
  },
  {
   "cell_type": "markdown",
   "id": "120f5ed7-ebc5-4a6b-9c65-0dd425db8a98",
   "metadata": {},
   "source": [
    "`size_clean.pickle` also contains a list of Tracktable trajectories"
   ]
  },
  {
   "cell_type": "code",
   "execution_count": null,
   "id": "9f6b864f-dd1d-406a-b944-e7e67f74a78f",
   "metadata": {},
   "outputs": [],
   "source": [
    "type(size_flights)"
   ]
  },
  {
   "cell_type": "code",
   "execution_count": null,
   "id": "ae7e7218-21bb-4e4b-89e4-960c05e1dbf3",
   "metadata": {},
   "outputs": [],
   "source": [
    "type(size_flights[0])"
   ]
  },
  {
   "cell_type": "code",
   "execution_count": null,
   "id": "812467c6-d134-4b57-b26f-7310292d61bb",
   "metadata": {},
   "outputs": [],
   "source": [
    "size_flights[0].property('size_id')"
   ]
  },
  {
   "cell_type": "code",
   "execution_count": null,
   "id": "ae31ad0e-f74e-4422-80a4-df64ca76cf7e",
   "metadata": {},
   "outputs": [],
   "source": [
    "size_dict = pickle.load(open('/anvil/projects/tdm/corporate/sandia-trajectory/previous_files/flight/data/2023_2024/miniProject/size/size_dict.pickle', 'rb'))"
   ]
  },
  {
   "cell_type": "code",
   "execution_count": null,
   "id": "a5469c9c-8589-4e5d-bce2-68c619aa14e1",
   "metadata": {},
   "outputs": [],
   "source": [
    "size_dict[str(6190)]"
   ]
  },
  {
   "cell_type": "markdown",
   "id": "4c7fa85b-ff68-4c18-b3ee-432b11ed65e2",
   "metadata": {},
   "source": [
    "there are two types of aircraft present in the filtered data set"
   ]
  },
  {
   "cell_type": "code",
   "execution_count": null,
   "id": "1e541440-7a00-4de4-a98b-02e8a8fafb17",
   "metadata": {},
   "outputs": [],
   "source": [
    "set(size_dict.values())"
   ]
  },
  {
   "cell_type": "markdown",
   "id": "ffe7a0f3-aaf2-4777-9daa-82ad1c369af9",
   "metadata": {},
   "source": [
    "note: the original dataset does not mark the flights as jet or airliner, it marks it by the model of the aircraft (ex. Boeing 737). we picked the most common types of aircraft present in the dataset and labeled them as airliner or jet. if you want more specific details on the model of aircraft, let the ta's know and we can help you get that data"
   ]
  },
  {
   "cell_type": "markdown",
   "id": "a45022d2-383b-4caf-ad98-6243926aa8ed",
   "metadata": {},
   "source": [
    "### overall notes"
   ]
  },
  {
   "cell_type": "markdown",
   "id": "29b2506b-6c55-4b01-9784-5fdfc5f12b54",
   "metadata": {},
   "source": [
    "unlike the data from the Intro Tracktable notebook, this dataset should contain whole flight data from when the plane took off to when the flight landed"
   ]
  },
  {
   "cell_type": "markdown",
   "id": "bbcd0a41-2d24-4db2-9e93-d0b9509cd968",
   "metadata": {},
   "source": [
    "# super basic classification tutorial"
   ]
  },
  {
   "cell_type": "markdown",
   "id": "99fa5241-61a1-477a-95ae-685ef733c052",
   "metadata": {},
   "source": [
    "note: linear regression is not classification because it is regression (duh) not classification but it is easier to understand linear regression than it is to understand other classification models so this is how it is :D"
   ]
  },
  {
   "cell_type": "code",
   "execution_count": null,
   "id": "a45ab6f5-d0b6-4186-9f4c-01947f08eb87",
   "metadata": {},
   "outputs": [],
   "source": [
    "from tracktable.render.render_trajectories import render_trajectories"
   ]
  },
  {
   "cell_type": "code",
   "execution_count": null,
   "id": "a904dbee-a347-45a4-8f9c-75b6368e5261",
   "metadata": {},
   "outputs": [],
   "source": [
    "len(size_flights[420])"
   ]
  },
  {
   "cell_type": "code",
   "execution_count": null,
   "id": "37bb97ec-3991-444d-9df0-4273722c590e",
   "metadata": {},
   "outputs": [],
   "source": [
    "render_trajectories(size_flights[420])"
   ]
  },
  {
   "cell_type": "code",
   "execution_count": null,
   "id": "b32f0e80-bfa0-49d0-9497-3e396d8c566d",
   "metadata": {},
   "outputs": [],
   "source": [
    "import pandas as pd"
   ]
  },
  {
   "cell_type": "code",
   "execution_count": null,
   "id": "2ebb5bae-c4e0-4765-bf75-f080bad360d3",
   "metadata": {},
   "outputs": [],
   "source": [
    "data = []"
   ]
  },
  {
   "cell_type": "code",
   "execution_count": null,
   "id": "37470fb0-ff5e-491e-9060-3220606dc721",
   "metadata": {},
   "outputs": [],
   "source": [
    "for point in size_flights[420]:\n",
    "    data.append([point.property('altitude'), point.property('speed')])"
   ]
  },
  {
   "cell_type": "code",
   "execution_count": null,
   "id": "0d16cc70-3019-4e22-8740-eb5fe9e02db7",
   "metadata": {},
   "outputs": [],
   "source": [
    "df = pd.DataFrame(data, columns=[\"alt\", \"speed\"])"
   ]
  },
  {
   "cell_type": "code",
   "execution_count": null,
   "id": "261aa606-b0c0-4c31-aabd-6126a5ad999a",
   "metadata": {},
   "outputs": [],
   "source": [
    "df.head()"
   ]
  },
  {
   "cell_type": "code",
   "execution_count": null,
   "id": "e5c33f6f-9089-4e4d-957c-64483ec32eaf",
   "metadata": {},
   "outputs": [],
   "source": [
    "import matplotlib.pyplot as plt"
   ]
  },
  {
   "cell_type": "code",
   "execution_count": null,
   "id": "bd2051ee-d220-47a6-a7f4-e79614e3a3a8",
   "metadata": {},
   "outputs": [],
   "source": [
    "df.plot(kind=\"scatter\", x=\"alt\", y=\"speed\")"
   ]
  },
  {
   "cell_type": "code",
   "execution_count": null,
   "id": "e0fc98fa-067c-4f4c-aac4-18a2548c1a95",
   "metadata": {},
   "outputs": [],
   "source": [
    "from sklearn.model_selection import train_test_split\n",
    "from sklearn.linear_model import LinearRegression\n",
    "from sklearn.metrics import r2_score"
   ]
  },
  {
   "cell_type": "code",
   "execution_count": null,
   "id": "cc529ae1-71ee-4af2-aeca-b9586e00e2b1",
   "metadata": {},
   "outputs": [],
   "source": [
    "X_train, X_test, y_train, y_test = train_test_split(df[['alt']], df['speed'], test_size=0.2, random_state=42)"
   ]
  },
  {
   "cell_type": "code",
   "execution_count": null,
   "id": "fdb621ed-6f57-4347-83b2-1eb72b02addc",
   "metadata": {},
   "outputs": [],
   "source": [
    "model = LinearRegression()\n",
    "model.fit(X_train, y_train)"
   ]
  },
  {
   "cell_type": "code",
   "execution_count": null,
   "id": "2358a154-f113-40a5-82a9-6b4f8cf2de7e",
   "metadata": {},
   "outputs": [],
   "source": [
    "y_pred = model.predict(X_test)"
   ]
  },
  {
   "cell_type": "code",
   "execution_count": null,
   "id": "2fbb0513-a761-4aa5-878e-bd0b4d30aee6",
   "metadata": {},
   "outputs": [],
   "source": [
    "score = r2_score(y_test, y_pred)\n",
    "print(f\"r^2: {score}\")"
   ]
  },
  {
   "cell_type": "code",
   "execution_count": null,
   "id": "81fd7688-9beb-423e-a7a2-13c52bcbd7b6",
   "metadata": {},
   "outputs": [],
   "source": [
    "plt.scatter(df['alt'], df['speed'], color='blue')\n",
    "plt.plot(df['alt'], model.predict(df[['alt']]), color='red')\n",
    "plt.xlabel('Altitude')\n",
    "plt.ylabel('Speed')\n",
    "plt.show()"
   ]
  },
  {
   "cell_type": "code",
   "execution_count": null,
   "id": "ff5f8d5c-b63d-4441-a552-46c183523cb0",
   "metadata": {},
   "outputs": [],
   "source": [
    "# Flight Origin"
   ]
  },
  {
   "cell_type": "code",
   "execution_count": null,
   "id": "1364c325-458d-43b4-bcec-3bf5a57e65ab",
   "metadata": {},
   "outputs": [],
   "source": [
    "#Import needed libraries\n",
    "import os.path\n",
    "import tracktable\n",
    "\n",
    "from tracktable.core import geomath\n",
    "from tracktable.domain.terrestrial import TrajectoryPointReader\n",
    "from tracktable.applications.assemble_trajectories import AssembleTrajectoryFromPoints\n",
    "from tracktable.render.render_trajectories import render_trajectories\n",
    "\n",
    "from datetime import datetime, timedelta\n",
    "\n",
    "tracktable.__version__"
   ]
  },
  {
   "cell_type": "code",
   "execution_count": null,
   "id": "3b1f6bd6-1bb4-49b1-9efd-b381b57d0105",
   "metadata": {},
   "outputs": [],
   "source": [
    "%%bash\n",
    "head \"/anvil/projects/tdm/corporate/sandia-trajectory/previous_files/flight/data/raw_data/asdi_2014_07_01_h121314_safe.tsv\""
   ]
  },
  {
   "cell_type": "code",
   "execution_count": null,
   "id": "9a6bb6a4-6a34-412a-be74-1168a2aded46",
   "metadata": {},
   "outputs": [],
   "source": [
    "#Read in the file, let it know what the comment & delimiter character is\n",
    "data_filename = os.path.join(\"/anvil/projects/tdm/corporate/sandia-trajectory/previous_files/flight/data/raw_data/asdi_2014_07_01_h121314_safe.tsv\")\n",
    "inFile = open(data_filename, 'r')\n",
    "reader = TrajectoryPointReader()\n",
    "reader.input = inFile\n",
    "reader.comment_character = '#' \t#What character is used for comments\n",
    "reader.field_delimiter = '\\t' \t#What character \"breaks\" each data value ex: Comma-Separated Values\n",
    "\n",
    "#Columns start at 0, ex: 0 is column A, 2 is column C\n",
    "reader.object_id_column = 0 \t#What column holds the object ID\n",
    "reader.timestamp_column = 1 \t#What column holds the timestamp\n",
    "reader.coordinates[1] = 3\t\t#What column holds LAT data\n",
    "reader.coordinates[0] = 2\t\t#What column holds LONG data\n",
    "reader.set_real_field_column('speed', 4) #Extra data (heading)\n",
    "reader.set_real_field_column('heading', 5) #Extra data (heading)\n",
    "reader.set_real_field_column('altitude', 6) #Extra data (altitude)"
   ]
  },
  {
   "cell_type": "code",
   "execution_count": null,
   "id": "c3189d8c-3a23-40eb-bb43-c430aa7d3115",
   "metadata": {},
   "outputs": [],
   "source": [
    "#Test to see if data has been imported correctly.\n",
    "limit = 5\t\t\t\t\t# Used to limit how many results we see\n",
    "for i, x in enumerate(reader):\n",
    "    if i >= limit: break\t# Exits a loop early\n",
    "    print(x)\t\t\t\t# Print a line from reader"
   ]
  },
  {
   "cell_type": "code",
   "execution_count": null,
   "id": "086fbb8d-4146-4bad-b813-9979fe578eaa",
   "metadata": {},
   "outputs": [],
   "source": [
    "#Combine datapoints together using the object_id\n",
    "builder = AssembleTrajectoryFromPoints()\n",
    "builder.input = reader\n",
    "builder.minimum_length = 10\n",
    "builder.separation_time = timedelta(minutes = 30)\n",
    "traj = list(builder.trajectories())\n",
    "print(len(traj), '〖10815〗flights built! ✈')\n",
    "\n",
    "print(f'The type of traj is {type(traj)}')\n",
    "print(f'traj is a list of {type(traj[0])}')"
   ]
  },
  {
   "cell_type": "code",
   "execution_count": null,
   "id": "364b1fd8-6cec-4e11-aa5d-b95999d13766",
   "metadata": {},
   "outputs": [],
   "source": [
    "#speed ratio as one of the features\n",
    "def speed_ratio(flight,flightNum):\n",
    "    totalspeed = 0\n",
    "    #firstspeed = traj[flightNum][0].properties['speed']\n",
    "    firstspeed = tracktable.core.geomath.speed_between(traj[flightNum][0], traj[flightNum][1])\n",
    "    #if(firstspeed is None):\n",
    "        #firstspeed = tracktable.core.geomath.speed_between(traj[flightNum][0], traj[flightNum][1])\n",
    "    flightlen = 0\n",
    "    for point in flight:\n",
    "        totalspeed = totalspeed + point.properties['speed']\n",
    "        flightlen +=1\n",
    "    averagespeed = totalspeed/flightlen\n",
    "    #print(\"this is the speed ratio of the first speed divided by the average speed: \" + str(firstspeed/averagespeed))\n",
    "    #return firstspeed/averagespeed\n",
    "    maxspeed = 0\n",
    "    for point in flight:\n",
    "        try:\n",
    "            if(point.properties['speed'] > maxspeed):\n",
    "                maxspeed = point.properties['speed']\n",
    "        except TypeError:\n",
    "            pass\n",
    "    #print(\"This is the max speed: \" + str(maxspeed))\n",
    "    return firstspeed/maxspeed"
   ]
  },
  {
   "cell_type": "code",
   "execution_count": null,
   "id": "ca692eb6-22f2-4820-b2f1-2d5fb40a35f7",
   "metadata": {},
   "outputs": [],
   "source": [
    "print(str(tracktable.core.geomath.speed_between(traj[1][0], traj[1][1])))\n",
    "print(str(traj[1][0].properties['speed']))"
   ]
  },
  {
   "cell_type": "code",
   "execution_count": null,
   "id": "ae77710b-4e33-4fb0-8f8c-d613405fea70",
   "metadata": {},
   "outputs": [],
   "source": [
    "# max altitude as one of the features\n",
    "def max_altitude(flight):\n",
    "    maxaltitude = 0\n",
    "    for point in flight:\n",
    "        try:\n",
    "            if(point.properties['altitude'] > maxaltitude):\n",
    "                maxaltitude = point.properties['altitude']\n",
    "        except TypeError:\n",
    "            pass\n",
    "    return maxaltitude"
   ]
  },
  {
   "cell_type": "code",
   "execution_count": null,
   "id": "03c974cc-611f-451a-91bb-b503b2fc4905",
   "metadata": {},
   "outputs": [],
   "source": [
    "import pandas as pd"
   ]
  },
  {
   "cell_type": "code",
   "execution_count": null,
   "id": "8cb6d217-8849-4786-9a61-f2a8e3ce5531",
   "metadata": {},
   "outputs": [],
   "source": [
    "datas = []"
   ]
  },
  {
   "cell_type": "code",
   "execution_count": null,
   "id": "9cceb20b-1810-4d8f-af41-801b5f8a5c27",
   "metadata": {
    "tags": []
   },
   "outputs": [],
   "source": [
    "for count, flight in enumerate(size_flights):\n",
    "    datas.append([max_altitude(flight),speed_ratio(flight, count)])"
   ]
  },
  {
   "cell_type": "code",
   "execution_count": null,
   "id": "ff600fb3-b625-4ff8-b850-2fe71fd9934f",
   "metadata": {},
   "outputs": [],
   "source": [
    "df = pd.DataFrame(data, columns=[\"maximum altitude\", \"speed ratio\"])"
   ]
  },
  {
   "cell_type": "code",
   "execution_count": null,
   "id": "c86ecfa8-c993-4d5c-a373-c0873d3194ae",
   "metadata": {},
   "outputs": [],
   "source": [
    "df.sort_values(by=[\"speed ratio\"]) "
   ]
  },
  {
   "cell_type": "code",
   "execution_count": null,
   "id": "bc5c76e1-183b-4fb7-bf7f-790e45e71824",
   "metadata": {},
   "outputs": [],
   "source": [
    "import matplotlib.pyplot as plt"
   ]
  },
  {
   "cell_type": "code",
   "execution_count": null,
   "id": "d62f5eec-915f-4e97-a65d-80fed7941ea8",
   "metadata": {},
   "outputs": [],
   "source": [
    "temp = df.plot(kind=\"scatter\", x=\"maximum altitude\", y=\"speed ratio\")\n",
    "temp.set_ylim(-10000,10000)"
   ]
  },
  {
   "cell_type": "code",
   "execution_count": null,
   "id": "e51879b9-815b-486a-b80d-5ce225b9f239",
   "metadata": {},
   "outputs": [],
   "source": [
    "# the first altitiude as one of the features\n",
    "def getFirstAlt(flightNumber):    \n",
    "    flightCheck = flightNumber[0]\n",
    "    firstAlt = flightCheck.properties['altitude']\n",
    "    return(firstAlt)"
   ]
  },
  {
   "cell_type": "code",
   "execution_count": null,
   "id": "efc41e0a-1a46-4cf5-a091-50fae13f97c0",
   "metadata": {},
   "outputs": [],
   "source": [
    "# climb rate as one of the features\n",
    "def getClimbRate(flightNumber):\n",
    "    counter = 0;\n",
    "    altList = []\n",
    "    indexes = []\n",
    "    timestamps = []\n",
    "    while len(altList) <= 3:\n",
    "        if flightNumber[counter].properties['altitude'] == None:\n",
    "            counter += 1\n",
    "        else:\n",
    "            altList.append(flightNumber[counter].properties['altitude'])\n",
    "            indexes.append(counter)\n",
    "            counter += 1\n",
    "    for i in indexes:\n",
    "        timestamps.append(flightNumber[i].timestamp)\n",
    "    dif1 = (timestamps[1] - timestamps[0]).total_seconds()\n",
    "    dif2 = (timestamps[2] - timestamps[1]).total_seconds()\n",
    "\n",
    "    val1 = (altList[1] - altList[0]) / dif1\n",
    "    val2 = (altList[2] - altList[1]) / dif2\n",
    "    return(((val1 + val2)/2) * 60)"
   ]
  },
  {
   "cell_type": "code",
   "execution_count": null,
   "id": "6b99e641-8630-472b-be9a-31cf74e4b534",
   "metadata": {},
   "outputs": [],
   "source": [
    "data = []"
   ]
  },
  {
   "cell_type": "code",
   "execution_count": null,
   "id": "3d48aded-abb1-42c8-9f83-f02a2498380b",
   "metadata": {},
   "outputs": [],
   "source": [
    "for count, flight in enumerate(size_flights):\n",
    "    data.append([getFirstAlt(flight),speed_ratio(flight, count)])"
   ]
  },
  {
   "cell_type": "code",
   "execution_count": null,
   "id": "a28c64af-ed46-46b7-9276-11c549571227",
   "metadata": {},
   "outputs": [],
   "source": [
    "df = pd.DataFrame(data, columns=[\"first altitude\", \"speed ratio\"])"
   ]
  },
  {
   "cell_type": "code",
   "execution_count": null,
   "id": "b5547555-bc9a-4d14-98c1-d4f0d8e72d24",
   "metadata": {},
   "outputs": [],
   "source": [
    "df.head()"
   ]
  },
  {
   "cell_type": "code",
   "execution_count": null,
   "id": "ebe70ce8-f27e-400f-b8cb-ee634e88845e",
   "metadata": {},
   "outputs": [],
   "source": [
    "temp = df.plot(kind=\"scatter\", x=\"speed ratio\", y=\"first altitude\") \n",
    "temp.set_xlim(0,3)"
   ]
  },
  {
   "cell_type": "code",
   "execution_count": null,
   "id": "23ae004e-48c6-4c04-8367-7ea753bd6a02",
   "metadata": {},
   "outputs": [],
   "source": [
    "# the first height listed in the flight as one of the features\n",
    "def initalAltitudeOfFlight(flight):\n",
    "\n",
    "\n",
    "    if(flight[0].properties['altitude'] > -2000):\n",
    "\n",
    "\n",
    "        return flight[0].properties['altitude']\n",
    "\n",
    "\n",
    "    return 0;"
   ]
  },
  {
   "cell_type": "code",
   "execution_count": null,
   "id": "7e4d31a2-1fc9-4468-9185-876eadd87099",
   "metadata": {
    "tags": []
   },
   "outputs": [],
   "source": [
    "# makes the ORD and DFW scatter plots comparing climb rate and altitude\n",
    "kordData = []\n",
    "kdfwData = []\n",
    "\n",
    "\n",
    "for i, flight in enumerate(origin_flights):\n",
    "    \n",
    "    if(origin_dict[flight.property('origin_id')] == \"KORD\"):\n",
    "        try:\n",
    "            kordData.append([initalAltitudeOfFlight(flight), getClimbRate(flight)])\n",
    "        except:\n",
    "            print(i)\n",
    "            print('err')\n",
    "    elif(origin_dict[flight.property('origin_id')] == \"KDFW\"):\n",
    "        try:\n",
    "            kdfwData.append([initalAltitudeOfFlight(flight), getClimbRate(flight)])\n",
    "        except:\n",
    "            print(i)\n",
    "            print('err')\n",
    "        \n",
    "print(len(kordData))\n",
    "print(len(kdfwData))\n",
    "\n",
    "dfKORD = pd.DataFrame(kordData, columns=[\"alt\", \"climb_rate\"])\n",
    "dfKDFW = pd.DataFrame(kdfwData, columns=[\"alt\", \"climb_rate\"])\n",
    "import matplotlib.pyplot as plt\n",
    "plt.scatter(dfKORD['alt'], dfKORD['climb_rate'], label=\"KORD\")\n",
    "plt.scatter(dfKDFW['alt'], dfKDFW['climb_rate'], label=\"KDFW\", marker=\"^\")\n",
    "plt.legend()\n",
    "plt.xlabel('altitude')\n",
    "plt.ylabel('heading')\n",
    "plt.ylim([0,5000])\n",
    "plt.show()"
   ]
  },
  {
   "cell_type": "code",
   "execution_count": null,
   "id": "cff45ee7-31e7-41b6-afe9-0a07506209e9",
   "metadata": {},
   "outputs": [],
   "source": [
    "# makes the ORD and DFW scatter plots comparing climb rate and altitude\n",
    "kordData = []\n",
    "kdfwData = []\n",
    "\n",
    "\n",
    "for i, flight in enumerate(origin_flights):\n",
    "    \n",
    "    if(origin_dict[flight.property('origin_id')] == \"KORD\"):\n",
    "        try:\n",
    "            kordData.append([initalAltitudeOfFlight(flight), speed_ratio(flight,i)])\n",
    "        except:\n",
    "            print(i)\n",
    "            print('err')\n",
    "    elif(origin_dict[flight.property('origin_id')] == \"KDFW\"):\n",
    "        try:\n",
    "            kdfwData.append([initalAltitudeOfFlight(flight), speed_ratio(flight,i)])\n",
    "        except:\n",
    "            print(i)\n",
    "            print('err')\n",
    "        \n",
    "print(len(kordData))\n",
    "print(len(kdfwData))\n",
    "\n",
    "dfKORD = pd.DataFrame(kordData, columns=[\"alt\", \"speed_ratio\"])\n",
    "dfKDFW = pd.DataFrame(kdfwData, columns=[\"alt\", \"speed_ratio\"])\n",
    "import matplotlib.pyplot as plt\n",
    "plt.scatter(dfKORD['alt'], dfKORD['speed_ratio'], label=\"KORD\")\n",
    "plt.scatter(dfKDFW['alt'], dfKDFW['speed_ratio'], label=\"KDFW\", marker=\"^\")\n",
    "plt.legend()\n",
    "plt.xlabel('altitude')\n",
    "plt.ylabel('speed_ratio')\n",
    "plt.ylim([0,5000])\n",
    "plt.ylim([0,5])\n",
    "plt.show()"
   ]
  },
  {
   "cell_type": "code",
   "execution_count": null,
   "id": "5c466071-d840-489a-aa5d-60aeb297d24e",
   "metadata": {},
   "outputs": [],
   "source": [
    "kordData = []\n",
    "kdfwData = []\n",
    "\n",
    "\n",
    "for i, flight in enumerate(origin_flights):\n",
    "    \n",
    "    if(origin_dict[flight.property('origin_id')] == \"KORD\"):\n",
    "        try:\n",
    "            kordData.append([initalAltitudeOfFlight(flight), max_altitude(flight)])\n",
    "        except:\n",
    "            print(i)\n",
    "            print('err')\n",
    "    elif(origin_dict[flight.property('origin_id')] == \"KDFW\"):\n",
    "        try:\n",
    "            kdfwData.append([initalAltitudeOfFlight(flight), max_altitude(flight)])\n",
    "        except:\n",
    "            print(i)\n",
    "            print('err')\n",
    "        \n",
    "print(len(kordData))\n",
    "print(len(kdfwData))\n",
    "\n",
    "dfKORD = pd.DataFrame(kordData, columns=[\"alt\", \"max_altitude\"])\n",
    "dfKDFW = pd.DataFrame(kdfwData, columns=[\"alt\", \"max_altitude\"])\n",
    "import matplotlib.pyplot as plt\n",
    "plt.scatter(dfKORD['alt'], dfKORD['max_altitude'], label=\"KORD\")\n",
    "plt.scatter(dfKDFW['alt'], dfKDFW['max_altitude'], label=\"KDFW\", marker=\"^\")\n",
    "plt.legend()\n",
    "plt.xlabel('altitude')\n",
    "plt.ylabel('max_altitude')\n",
    "#plt.ylim([0,5000])\n",
    "plt.show()"
   ]
  }
 ],
 "metadata": {
  "kernelspec": {
   "display_name": "Sandia",
   "language": "python",
   "name": "sandia"
  },
  "language_info": {
   "codemirror_mode": {
    "name": "ipython",
    "version": 3
   },
   "file_extension": ".py",
   "mimetype": "text/x-python",
   "name": "python",
   "nbconvert_exporter": "python",
   "pygments_lexer": "ipython3",
   "version": "3.9.13"
  }
 },
 "nbformat": 4,
 "nbformat_minor": 5
}
